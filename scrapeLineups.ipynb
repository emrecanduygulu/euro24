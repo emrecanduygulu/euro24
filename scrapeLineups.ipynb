{
 "cells": [
  {
   "cell_type": "code",
   "execution_count": 2,
   "metadata": {},
   "outputs": [],
   "source": [
    "# Cell 1: Import necessary libraries\n",
    "import json\n",
    "from selenium import webdriver\n",
    "from selenium.webdriver.chrome.service import Service as ChromeService\n",
    "from webdriver_manager.chrome import ChromeDriverManager\n",
    "from selenium.common import exceptions\n",
    "import time\n"
   ]
  },
  {
   "cell_type": "code",
   "execution_count": 13,
   "metadata": {},
   "outputs": [],
   "source": [
    "# Cell 2: Set up the WebDriver\n",
    "options = webdriver.ChromeOptions()\n",
    "options.set_capability(\n",
    "    'goog:loggingPrefs', { \"performance\": \"ALL\", \"browser\": \"ALL\"}\n",
    ")\n",
    "driver = webdriver.Chrome(service=ChromeService(ChromeDriverManager().install()), options=options)"
   ]
  },
  {
   "cell_type": "code",
   "execution_count": 14,
   "metadata": {},
   "outputs": [],
   "source": [
    "# Cell 3: Navigate to the page\n",
    "driver.set_page_load_timeout(10)\n",
    "try: \n",
    "    driver.get('https://www.sofascore.com/czech-republic-turkey/aUbsoUb')\n",
    "except:\n",
    "    pass"
   ]
  },
  {
   "cell_type": "code",
   "execution_count": 15,
   "metadata": {},
   "outputs": [],
   "source": [
    "# Cell 4: Scroll the page\n",
    "driver.execute_script(\"window.scrollTo(0, document.body.scrollHeight);\")\n",
    "time.sleep(5)"
   ]
  },
  {
   "cell_type": "code",
   "execution_count": 16,
   "metadata": {},
   "outputs": [],
   "source": [
    "# Cell 5: Get performance logs\n",
    "logs_raw = driver.get_log(\"performance\")"
   ]
  },
  {
   "cell_type": "code",
   "execution_count": 17,
   "metadata": {},
   "outputs": [],
   "source": [
    "# Cell 6: Process logs\n",
    "logs = [json.loads(lr['message'])['message'] for lr in logs_raw]"
   ]
  },
  {
   "cell_type": "code",
   "execution_count": 18,
   "metadata": {},
   "outputs": [
    {
     "name": "stdout",
     "output_type": "stream",
     "text": [
      "/api/v1/event/11873986/lineups\n"
     ]
    }
   ],
   "source": [
    "# Cell 7: Find the specific network request\n",
    "for x in logs:\n",
    "    if 'lineups' in x['params'].get('headers', {}).get(':path', ''):\n",
    "        print(x['params'].get('headers', {}).get(':path', ''))\n",
    "        break"
   ]
  },
  {
   "cell_type": "code",
   "execution_count": 19,
   "metadata": {},
   "outputs": [
    {
     "name": "stdout",
     "output_type": "stream",
     "text": [
      "An error occurred: Message: unknown error: unhandled inspector error: {\"code\":-32000,\"message\":\"No data found for resource with given identifier\"}\n",
      "  (Session info: chrome=126.0.6478.127)\n",
      "Stacktrace:\n",
      "0   chromedriver                        0x0000000104d06a80 chromedriver + 4385408\n",
      "1   chromedriver                        0x0000000104cff38c chromedriver + 4354956\n",
      "2   chromedriver                        0x000000010491cb0c chromedriver + 281356\n",
      "3   chromedriver                        0x0000000104906af0 chromedriver + 191216\n",
      "4   chromedriver                        0x00000001049051d4 chromedriver + 184788\n",
      "5   chromedriver                        0x0000000104905c4c chromedriver + 187468\n",
      "6   chromedriver                        0x000000010491f5b0 chromedriver + 292272\n",
      "7   chromedriver                        0x0000000104997d24 chromedriver + 785700\n",
      "8   chromedriver                        0x0000000104953eec chromedriver + 507628\n",
      "9   chromedriver                        0x00000001049548c4 chromedriver + 510148\n",
      "10  chromedriver                        0x0000000104cce43c chromedriver + 4154428\n",
      "11  chromedriver                        0x0000000104cd2ea0 chromedriver + 4173472\n",
      "12  chromedriver                        0x0000000104cb3ff8 chromedriver + 4046840\n",
      "13  chromedriver                        0x0000000104cd378c chromedriver + 4175756\n",
      "14  chromedriver                        0x0000000104ca6fb8 chromedriver + 3993528\n",
      "15  chromedriver                        0x0000000104cf121c chromedriver + 4297244\n",
      "16  chromedriver                        0x0000000104cf1398 chromedriver + 4297624\n",
      "17  chromedriver                        0x0000000104cfef84 chromedriver + 4353924\n",
      "18  libsystem_pthread.dylib             0x0000000185276034 _pthread_start + 136\n",
      "19  libsystem_pthread.dylib             0x0000000185270e3c thread_start + 8\n",
      "\n"
     ]
    }
   ],
   "source": [
    "try:\n",
    "    # Extract the request ID for the lineups request\n",
    "    request_id = None\n",
    "    for x in logs:\n",
    "        if 'lineups' in x['params'].get('headers', {}).get(':path', ''):\n",
    "            request_id = x['params'].get('requestId', '')\n",
    "            break\n",
    "\n",
    "    if request_id:\n",
    "        # Execute the CDP command to get the response body\n",
    "        response_body = driver.execute_cdp_cmd(\"Network.getResponseBody\", {\"requestId\": request_id})\n",
    "        player_stats = json.loads(response_body[\"body\"])\n",
    "    else:\n",
    "        raise ValueError(\"Request ID for 'lineups' not found in logs\")\n",
    "\n",
    "except Exception as e:\n",
    "    print(f\"An error occurred: {e}\")\n"
   ]
  },
  {
   "cell_type": "code",
   "execution_count": null,
   "metadata": {},
   "outputs": [],
   "source": [
    "# Cell 9: Parse player statistics\n",
    "def parse_player_statistics(team_data):\n",
    "    players_stats = []\n",
    "    for player_info in team_data['players']:\n",
    "        player = player_info['player']\n",
    "        stats = player_info['statistics']\n",
    "        player_stats = {\n",
    "            'name': player['name'],\n",
    "            'id': player['id'],\n",
    "            'position': player_info['position'],\n",
    "            'jerseyNumber': player_info['jerseyNumber'],\n",
    "            'totalPass': stats.get('totalPass', 0),\n",
    "            'accuratePass': stats.get('accuratePass', 0),\n",
    "            'totalLongBalls': stats.get('totalLongBalls', 0),\n",
    "            'accurateLongBalls': stats.get('accurateLongBalls', 0),\n",
    "            'goalAssist': stats.get('goalAssist', 0),\n",
    "            'saves': stats.get('saves', 0),\n",
    "            'minutesPlayed': stats.get('minutesPlayed', 0),\n",
    "            'touches': stats.get('touches', 0),\n",
    "            'rating': stats.get('rating', 0),\n",
    "            'possessionsLostCtrl': stats.get('possessionsLostCtrl', 0)\n",
    "        }\n",
    "        players_stats.append(player_stats)\n",
    "    return players_stats"
   ]
  },
  {
   "cell_type": "code",
   "execution_count": null,
   "metadata": {},
   "outputs": [],
   "source": [
    "# Cell 10: Process home and away team statistics\n",
    "home_team_stats = parse_player_statistics(player_stats['home'])\n",
    "away_team_stats = parse_player_statistics(player_stats['away'])"
   ]
  },
  {
   "cell_type": "code",
   "execution_count": null,
   "metadata": {},
   "outputs": [],
   "source": [
    "# Cell 11: Combine home and away team statistics\n",
    "all_player_stats = {\n",
    "    'home': home_team_stats,\n",
    "    'away': away_team_stats\n",
    "}"
   ]
  },
  {
   "cell_type": "code",
   "execution_count": null,
   "metadata": {},
   "outputs": [],
   "source": [
    "# Cell 12: Save to JSON file\n",
    "with open(\"player_stats.json\", \"w\") as f:\n",
    "    json.dump(all_player_stats, f)"
   ]
  }
 ],
 "metadata": {
  "kernelspec": {
   "display_name": "base",
   "language": "python",
   "name": "python3"
  },
  "language_info": {
   "codemirror_mode": {
    "name": "ipython",
    "version": 3
   },
   "file_extension": ".py",
   "mimetype": "text/x-python",
   "name": "python",
   "nbconvert_exporter": "python",
   "pygments_lexer": "ipython3",
   "version": "3.10.13"
  }
 },
 "nbformat": 4,
 "nbformat_minor": 2
}
