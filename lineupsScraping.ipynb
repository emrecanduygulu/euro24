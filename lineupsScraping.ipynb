{
 "cells": [
  {
   "cell_type": "code",
   "execution_count": 1,
   "metadata": {},
   "outputs": [],
   "source": [
    "import requests\n",
    "import json"
   ]
  },
  {
   "cell_type": "code",
   "execution_count": 2,
   "metadata": {},
   "outputs": [],
   "source": [
    "headers = {\n",
    "    'User-Agent': 'Mozilla/5.0 (Macintosh; Intel Mac OS X 10.15; rv:127.0) Gecko/20100101 Firefox/127.0',\n",
    "    'Accept': '*/*',\n",
    "    'Accept-Language': 'en-US,en;q=0.5',\n",
    "    # 'Accept-Encoding': 'gzip, deflate, br, zstd',\n",
    "    'Referer': 'https://www.sofascore.com/czech-republic-turkey/aUbsoUb',\n",
    "    'X-Requested-With': '41e42b',\n",
    "    'Connection': 'keep-alive',\n",
    "    'Sec-Fetch-Dest': 'empty',\n",
    "    'Sec-Fetch-Mode': 'cors',\n",
    "    'Sec-Fetch-Site': 'same-origin',\n",
    "    'If-None-Match': 'W/\"ff4d9d3c48\"',\n",
    "    'Priority': 'u=4',\n",
    "    'Cache-Control': 'max-age=0',\n",
    "    # Requests doesn't support trailers\n",
    "    # 'TE': 'trailers',\n",
    "}\n",
    "\n",
    "response = requests.get('https://www.sofascore.com/api/v1/event/11873986/lineups', headers=headers)"
   ]
  },
  {
   "cell_type": "code",
   "execution_count": null,
   "metadata": {},
   "outputs": [],
   "source": [
    "data = response.json()  # Parse JSON response\n",
    "print(json.dumps(data, indent=4))  # Pretty-print the JSON data"
   ]
  },
  {
   "cell_type": "code",
   "execution_count": 4,
   "metadata": {},
   "outputs": [],
   "source": [
    "def parse_player_statistics(team_data):\n",
    "    players_stats = []\n",
    "    for player_info in team_data['players']:\n",
    "        player = player_info['player']\n",
    "        stats = player_info['statistics']\n",
    "        player_stats = {\n",
    "            'name': player['name'],\n",
    "            'id': player['id'],\n",
    "            'position': player_info['position'],\n",
    "            'jerseyNumber': player_info['jerseyNumber'],\n",
    "            'totalPass': stats.get('totalPass', 0),\n",
    "            'accuratePass': stats.get('accuratePass', 0),\n",
    "            'totalLongBalls': stats.get('totalLongBalls', 0),\n",
    "            'accurateLongBalls': stats.get('accurateLongBalls', 0),\n",
    "            'goalAssist': stats.get('goalAssist', 0),\n",
    "            'saves': stats.get('saves', 0),\n",
    "            'minutesPlayed': stats.get('minutesPlayed', 0),\n",
    "            'touches': stats.get('touches', 0),\n",
    "            'rating': stats.get('rating', 0),\n",
    "            'possessionsLostCtrl': stats.get('possessionsLostCtrl', 0)\n",
    "        }\n",
    "        players_stats.append(player_stats)\n",
    "    return players_stats"
   ]
  },
  {
   "cell_type": "code",
   "execution_count": 5,
   "metadata": {},
   "outputs": [],
   "source": [
    "home_team_stats = parse_player_statistics(data['home'])\n",
    "away_team_stats = parse_player_statistics(data['away'])"
   ]
  },
  {
   "cell_type": "code",
   "execution_count": null,
   "metadata": {},
   "outputs": [],
   "source": [
    "print(\"Home Team Statistics:\")\n",
    "for player in home_team_stats:\n",
    "    print(f\"Name: {player['name']}, Position: {player['position']}, Jersey Number: {player['jerseyNumber']}, Statistics: {player}\")\n",
    "\n",
    "# Print the statistics for away team\n",
    "print(\"Away Team Statistics:\")\n",
    "for player in away_team_stats:\n",
    "    print(f\"Name: {player['name']}, Position: {player['position']}, Jersey Number: {player['jerseyNumber']}, Statistics: {player}\")"
   ]
  }
 ],
 "metadata": {
  "kernelspec": {
   "display_name": "base",
   "language": "python",
   "name": "python3"
  },
  "language_info": {
   "codemirror_mode": {
    "name": "ipython",
    "version": 3
   },
   "file_extension": ".py",
   "mimetype": "text/x-python",
   "name": "python",
   "nbconvert_exporter": "python",
   "pygments_lexer": "ipython3",
   "version": "3.10.13"
  }
 },
 "nbformat": 4,
 "nbformat_minor": 2
}
